{
 "cells": [
  {
   "cell_type": "raw",
   "id": "0d3049b1",
   "metadata": {},
   "source": [
    "Go ro ineuron\n",
    "list down all the courses\n",
    "scrap all the course page\n",
    "collect all the data segment wise (mentors, pre requisites, course name, duartion)\n",
    "Store the data in mysql system/ mongodb\n",
    "Deploy it on Heroku, AWS, GCP\n",
    "optional\n",
    "Share a deployed link\n",
    "Create Ui Showcase in HTML (if aware about)"
   ]
  },
  {
   "cell_type": "raw",
   "id": "71109f74",
   "metadata": {},
   "source": [
    "Restrictions;\n",
    "Do not take help from i neuron\n",
    "always use coding standards\n",
    "logging, debugging, try catch e xecption, class name method name etc.,\n",
    "sunny.savita@ineuron.ai\n",
    "sudhanshu@ineuron.ai"
   ]
  }
 ],
 "metadata": {
  "kernelspec": {
   "display_name": "Python 3",
   "language": "python",
   "name": "python3"
  },
  "language_info": {
   "codemirror_mode": {
    "name": "ipython",
    "version": 3
   },
   "file_extension": ".py",
   "mimetype": "text/x-python",
   "name": "python",
   "nbconvert_exporter": "python",
   "pygments_lexer": "ipython3",
   "version": "3.8.8"
  }
 },
 "nbformat": 4,
 "nbformat_minor": 5
}
